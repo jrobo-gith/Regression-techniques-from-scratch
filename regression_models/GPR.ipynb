{
 "cells": [
  {
   "metadata": {
    "ExecuteTime": {
     "end_time": "2025-04-14T08:02:06.274458Z",
     "start_time": "2025-04-14T08:02:06.255535Z"
    }
   },
   "cell_type": "code",
   "source": [
    "import numpy as np\n",
    "import matplotlib.pyplot as plt\n",
    "import data_gen\n",
    "from data_gen import true_func"
   ],
   "id": "e746dbb79320a983",
   "outputs": [
    {
     "ename": "ImportError",
     "evalue": "cannot import name 'true_func' from 'data_gen' (/Users/jackroberts/Documents/PORTFOLIO/regression/data_gen.py)",
     "output_type": "error",
     "traceback": [
      "\u001B[0;31m---------------------------------------------------------------------------\u001B[0m",
      "\u001B[0;31mImportError\u001B[0m                               Traceback (most recent call last)",
      "Cell \u001B[0;32mIn[35], line 4\u001B[0m\n\u001B[1;32m      2\u001B[0m \u001B[38;5;28;01mimport\u001B[39;00m \u001B[38;5;21;01mmatplotlib\u001B[39;00m\u001B[38;5;21;01m.\u001B[39;00m\u001B[38;5;21;01mpyplot\u001B[39;00m \u001B[38;5;28;01mas\u001B[39;00m \u001B[38;5;21;01mplt\u001B[39;00m\n\u001B[1;32m      3\u001B[0m \u001B[38;5;28;01mimport\u001B[39;00m \u001B[38;5;21;01mdata_gen\u001B[39;00m\n\u001B[0;32m----> 4\u001B[0m \u001B[38;5;28;01mfrom\u001B[39;00m \u001B[38;5;21;01mdata_gen\u001B[39;00m \u001B[38;5;28;01mimport\u001B[39;00m true_func\n",
      "\u001B[0;31mImportError\u001B[0m: cannot import name 'true_func' from 'data_gen' (/Users/jackroberts/Documents/PORTFOLIO/regression/data_gen.py)"
     ]
    }
   ],
   "execution_count": 35
  },
  {
   "metadata": {},
   "cell_type": "markdown",
   "source": [
    "# Gaussian Process Regression\n",
    "\n",
    "A Gaussian process builds a surrogate model for a model too expensive to call loads of times. It extends a multivariate Gaussian to infinite dimensions, meaning random variables $x$ becomes random functions $f(x)$. The mean of the variables $\\mu$ becomes a mean function $m(x)$ and rather than a covariance matrix $\\Sigma_{ij}$ we have a covariance function $\\textbf{k}(x_i, x_j)$.\n",
    "### Covariance functions\n",
    "There are quite a few covariance functions, but the one we'll use is the squared exponential covariance function - RBFs - \n",
    "$$\n",
    "k(\\textbf{x}, \\textbf{x'}) = v\\text{exp}\\left[-\\frac{1}{2} \\sum^d_{i=1} \\frac{(x_i-x_i')^2}{\\ell^2_i} \\right],\n",
    "$$\n",
    "where $v,\\ell_i >0, i=1, ..., d$ are hyperparameters. <br>\n",
    "For each of these covariance functions, $v$ is known as the $\\textbf{signal variance}$ or $\\textbf{signal strength}$. The bigger it is, the more the GP $f(x)$ will vary about the mean."
   ],
   "id": "1f0e2d12088e72e3"
  },
  {
   "metadata": {},
   "cell_type": "markdown",
   "source": "### Algorithm\n",
   "id": "a9be0a410041b2d4"
  },
  {
   "metadata": {},
   "cell_type": "markdown",
   "source": "#### Define RBF",
   "id": "5981105900071559"
  },
  {
   "cell_type": "code",
   "id": "initial_id",
   "metadata": {
    "collapsed": true,
    "ExecuteTime": {
     "end_time": "2025-04-14T08:01:16.793320Z",
     "start_time": "2025-04-14T08:01:16.788973Z"
    }
   },
   "source": [
    "def RBF(x0: np.array, x1: np.array, ell: float, v: float) -> np.array:\n",
    "    summs = -0.5 * np.sum(((x0 - x1)**2)/ell**2)\n",
    "    return v * np.exp(summs)"
   ],
   "outputs": [],
   "execution_count": 30
  },
  {
   "metadata": {
    "ExecuteTime": {
     "end_time": "2025-04-14T08:01:40.174746Z",
     "start_time": "2025-04-14T08:01:40.080239Z"
    }
   },
   "cell_type": "code",
   "source": [
    "num_obvs = 25\n",
    "sigma = 0.1\n",
    "x_data = np.random.uniform(-1, 1, num_obvs)\n",
    "y_data = data_gen.data(x_data, sigma**2)\n",
    "fig, ax = plt.subplots(figsize=(8, 8))\n",
    "ax.scatter(x_data, y_data, marker='s', label='Observations', color=\"b\")\n",
    "ax.plot(x_data, true_func(-1, 1), label='True function', color=\"k\", linestyle='--')\n",
    "ax.set_xlabel('$x$')\n",
    "ax.set_ylabel('$y$')\n",
    "ax.set_title(\"Noisy observations of the original function $y = 1/2 sin(2\\pi X) + \\epsilon$\")\n",
    "ax.legend()\n",
    "ax.grid(True)"
   ],
   "id": "242a594269f6519",
   "outputs": [
    {
     "ename": "NameError",
     "evalue": "name 'true_func' is not defined",
     "output_type": "error",
     "traceback": [
      "\u001B[0;31m---------------------------------------------------------------------------\u001B[0m",
      "\u001B[0;31mNameError\u001B[0m                                 Traceback (most recent call last)",
      "Cell \u001B[0;32mIn[33], line 7\u001B[0m\n\u001B[1;32m      5\u001B[0m fig, ax \u001B[38;5;241m=\u001B[39m plt\u001B[38;5;241m.\u001B[39msubplots(figsize\u001B[38;5;241m=\u001B[39m(\u001B[38;5;241m8\u001B[39m, \u001B[38;5;241m8\u001B[39m))\n\u001B[1;32m      6\u001B[0m ax\u001B[38;5;241m.\u001B[39mscatter(x_data, y_data, marker\u001B[38;5;241m=\u001B[39m\u001B[38;5;124m'\u001B[39m\u001B[38;5;124ms\u001B[39m\u001B[38;5;124m'\u001B[39m, label\u001B[38;5;241m=\u001B[39m\u001B[38;5;124m'\u001B[39m\u001B[38;5;124mObservations\u001B[39m\u001B[38;5;124m'\u001B[39m, color\u001B[38;5;241m=\u001B[39m\u001B[38;5;124m\"\u001B[39m\u001B[38;5;124mb\u001B[39m\u001B[38;5;124m\"\u001B[39m)\n\u001B[0;32m----> 7\u001B[0m ax\u001B[38;5;241m.\u001B[39mplot(x_data, true_func(\u001B[38;5;241m-\u001B[39m\u001B[38;5;241m1\u001B[39m, \u001B[38;5;241m1\u001B[39m), label\u001B[38;5;241m=\u001B[39m\u001B[38;5;124m'\u001B[39m\u001B[38;5;124mTrue function\u001B[39m\u001B[38;5;124m'\u001B[39m, color\u001B[38;5;241m=\u001B[39m\u001B[38;5;124m\"\u001B[39m\u001B[38;5;124mk\u001B[39m\u001B[38;5;124m\"\u001B[39m, linestyle\u001B[38;5;241m=\u001B[39m\u001B[38;5;124m'\u001B[39m\u001B[38;5;124m--\u001B[39m\u001B[38;5;124m'\u001B[39m)\n\u001B[1;32m      8\u001B[0m ax\u001B[38;5;241m.\u001B[39mset_xlabel(\u001B[38;5;124m'\u001B[39m\u001B[38;5;124m$x$\u001B[39m\u001B[38;5;124m'\u001B[39m)\n\u001B[1;32m      9\u001B[0m ax\u001B[38;5;241m.\u001B[39mset_ylabel(\u001B[38;5;124m'\u001B[39m\u001B[38;5;124m$y$\u001B[39m\u001B[38;5;124m'\u001B[39m)\n",
      "\u001B[0;31mNameError\u001B[0m: name 'true_func' is not defined"
     ]
    },
    {
     "data": {
      "text/plain": [
       "<Figure size 800x800 with 1 Axes>"
      ],
      "image/png": "[encoded data removed]"
     },
     "metadata": {},
     "output_type": "display_data"
    }
   ],
   "execution_count": 33
  },
  {
   "metadata": {
    "ExecuteTime": {
     "end_time": "2025-04-14T08:01:18.057019Z",
     "start_time": "2025-04-14T08:01:18.054461Z"
    }
   },
   "cell_type": "code",
   "source": "",
   "id": "b938e024e0fef766",
   "outputs": [],
   "execution_count": null
  },
  {
   "metadata": {},
   "cell_type": "code",
   "outputs": [],
   "execution_count": null,
   "source": "",
   "id": "e9f5400c82de3b2f"
  }
 ],
 "metadata": {
  "kernelspec": {
   "display_name": "Python 3",
   "language": "python",
   "name": "python3"
  },
  "language_info": {
   "codemirror_mode": {
    "name": "ipython",
    "version": 2
   },
   "file_extension": ".py",
   "mimetype": "text/x-python",
   "name": "python",
   "nbconvert_exporter": "python",
   "pygments_lexer": "ipython2",
   "version": "2.7.6"
  }
 },
 "nbformat": 4,
 "nbformat_minor": 5
}
